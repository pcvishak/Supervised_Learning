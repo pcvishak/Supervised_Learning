{
 "cells": [
  {
   "cell_type": "markdown",
   "metadata": {},
   "source": [
    "## A simple distance from means classifier on Iris dataset "
   ]
  },
  {
   "cell_type": "code",
   "execution_count": 1,
   "metadata": {},
   "outputs": [],
   "source": [
    "import numpy as np\n",
    "import re\n",
    "from sklearn.utils import shuffle"
   ]
  },
  {
   "cell_type": "code",
   "execution_count": 2,
   "metadata": {},
   "outputs": [],
   "source": [
    "def file_ready(filename):\n",
    "    \n",
    "    data = np.genfromtxt(filename, delimiter=',')\n",
    "    data_ = data[:, 0:(data.shape[1] - 1)]\n",
    "    labels_ = data[:, [data.shape[1] - 1]]\n",
    "    return data_, labels_\n",
    "    "
   ]
  },
  {
   "cell_type": "code",
   "execution_count": 3,
   "metadata": {},
   "outputs": [],
   "source": [
    "def distance(data, means):\n",
    "    dist = [0, 0, 0]\n",
    "    # Computing Euclidean distance\n",
    "    dist[0] = np.linalg.norm(data - means[0])\n",
    "    dist[1] = np.linalg.norm(data - means[1])\n",
    "    dist[2] = np.linalg.norm(data - means[2])\n",
    "    return dist.index(min(dist))"
   ]
  },
  {
   "cell_type": "code",
   "execution_count": 4,
   "metadata": {},
   "outputs": [],
   "source": [
    "def train_fn(data, labels):\n",
    "    mean_setosa = 0\n",
    "    mean_versicolor = 0\n",
    "    mean_virginica = 0\n",
    "    \n",
    "    for index, data_ in enumerate(data):\n",
    "        if labels[index] == 0:\n",
    "            mean_setosa = mean_setosa + data_\n",
    "        elif labels[index] == 1:\n",
    "            mean_versicolor = mean_versicolor + data_\n",
    "        else:\n",
    "            mean_virginica = mean_virginica + data_\n",
    "    \n",
    "    mean_setosa = mean_setosa/50.0\n",
    "    mean_versicolor = mean_versicolor/50.0\n",
    "    mean_virginica = mean_virginica/50.0\n",
    "\n",
    "    means = [mean_setosa, mean_versicolor, mean_virginica]\n",
    "    \n",
    "    return means\n",
    "\n",
    "    "
   ]
  },
  {
   "cell_type": "code",
   "execution_count": 5,
   "metadata": {},
   "outputs": [],
   "source": [
    "def test_fn(data, labels, means):\n",
    "    \n",
    "    count = 0\n",
    "    for index, data_ in enumerate(data):\n",
    "        prediction = distance(data_, means)\n",
    "        if prediction == labels[index]:\n",
    "            count = count + 1\n",
    "    return (count/index) * 100\n"
   ]
  },
  {
   "cell_type": "code",
   "execution_count": 6,
   "metadata": {},
   "outputs": [],
   "source": [
    "def main_fn():\n",
    "    data_training, labels_training = file_ready('iris_new.data')\n",
    "    data_training, labels_training = shuffle(data_training, labels_training, random_state=0)\n",
    "    means = train_fn(data_training, labels_training)\n",
    "    \n",
    "    data_test, labels_test = file_ready('bezdekIris_new.data')\n",
    "    data_test, labels_test = shuffle(data_test, labels_test, random_state=0)\n",
    "    efficiency = test_fn(data_test, labels_test, means)\n",
    "    \n",
    "    print(efficiency)"
   ]
  },
  {
   "cell_type": "code",
   "execution_count": 7,
   "metadata": {},
   "outputs": [
    {
     "name": "stdout",
     "output_type": "stream",
     "text": [
      "93.28859060402685\n"
     ]
    }
   ],
   "source": [
    "main_fn()"
   ]
  }
 ],
 "metadata": {
  "kernelspec": {
   "display_name": "Python 3",
   "language": "python",
   "name": "python3"
  },
  "language_info": {
   "codemirror_mode": {
    "name": "ipython",
    "version": 3
   },
   "file_extension": ".py",
   "mimetype": "text/x-python",
   "name": "python",
   "nbconvert_exporter": "python",
   "pygments_lexer": "ipython3",
   "version": "3.6.8"
  }
 },
 "nbformat": 4,
 "nbformat_minor": 2
}
